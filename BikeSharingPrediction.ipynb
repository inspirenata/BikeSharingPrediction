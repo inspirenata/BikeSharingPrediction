{
  "cells": [
    {
      "metadata": {
        "_cell_guid": "22361827-3b0c-8574-ec44-cf1b0f0b5d71",
        "_uuid": "82d487de7fc5cff02accd3d7f431e23d96abb7c0",
        "trusted": false
      },
      "cell_type": "code",
      "source": "import numpy as np \nimport pandas as pd \nfrom sklearn import cross_validation, grid_search, linear_model, metrics, pipeline, preprocessing",
      "execution_count": null,
      "outputs": []
    },
    {
      "metadata": {
        "_cell_guid": "34db2a34-6d79-b1e1-7e05-c08cf8340064",
        "_uuid": "ea73640f1d6fb65ea1baede6c927773f82083b25"
      },
      "cell_type": "markdown",
      "source": "### We are using Root Mean Squared Logarithmic Error (RMSLE) and common mean absolute error"
    },
    {
      "metadata": {
        "_cell_guid": "90a5f70e-8643-a5a2-5ead-83acaae83fcd",
        "_uuid": "78de5552ea85622b3ed658704d6c64ab55b6a8b9",
        "trusted": false
      },
      "cell_type": "code",
      "source": "def rmsle(y, y_):\n    log1 = np.nan_to_num(np.array([np.log(v + 1) for v in y]))\n    log2 = np.nan_to_num(np.array([np.log(v + 1) for v in y_]))\n    calc = (log1 - log2) ** 2\n    return np.sqrt(np.mean(calc))",
      "execution_count": null,
      "outputs": []
    },
    {
      "metadata": {
        "_cell_guid": "756e7a28-1867-f0fe-b4e6-cdba9dfa144b",
        "_uuid": "4b8f1e821bf84d9b8d0aa4c549087ffa8f81c849",
        "trusted": false
      },
      "cell_type": "code",
      "source": "data = pd.read_csv(\"../input/train.csv\")",
      "execution_count": null,
      "outputs": []
    },
    {
      "metadata": {
        "_cell_guid": "fd8309f3-19b6-524e-508e-22e669ae61bd",
        "_uuid": "07317b250c28af8b863eda611f9dc0a08bd5b16e",
        "trusted": false
      },
      "cell_type": "code",
      "source": "data.head(3)",
      "execution_count": null,
      "outputs": []
    },
    {
      "metadata": {
        "_cell_guid": "11eb5914-f0cc-015f-9195-7e01c7c91b30",
        "_uuid": "b80ce7e1979b8589f9efb3d6ca2632d35a9cb1bd",
        "trusted": false
      },
      "cell_type": "code",
      "source": "data.isnull().values.any()",
      "execution_count": null,
      "outputs": []
    },
    {
      "metadata": {
        "_cell_guid": "0eef2bef-cd58-0055-a6f0-c5bfbbf62afc",
        "_uuid": "a6bed5b0ea03834ef80ffdf1fd4c85b0b355b11e",
        "trusted": false
      },
      "cell_type": "code",
      "source": "data.datetime = data.datetime.apply(pd.to_datetime)\ndata['month'] = data.datetime.apply(lambda x : x.month)\ndata['hour'] = data.datetime.apply(lambda x : x.hour)\ndata.head()",
      "execution_count": null,
      "outputs": []
    },
    {
      "metadata": {
        "_cell_guid": "a826609a-aa76-195e-2dbf-65fa1ac27316",
        "_uuid": "89afed615037530e1a3da1654738bc13a7de1668",
        "trusted": false
      },
      "cell_type": "code",
      "source": "train_data = data.iloc[:-1000, :]\ntest_data = data.iloc[-1000:, :]\nprint(data.shape, train_data.shape, test_data.shape)\n",
      "execution_count": null,
      "outputs": []
    },
    {
      "metadata": {
        "_cell_guid": "2811b447-b75d-3148-aa6e-55a268965fb1",
        "_uuid": "3f7955d50fe137e073f32c1e4d4d1514fb496091",
        "trusted": false
      },
      "cell_type": "code",
      "source": "train_labels = train_data['count'].values\ntrain_data = train_data.drop(['datetime', 'count', 'casual', 'registered'], axis = 1)\ntest_labels = test_data['count'].values\ntest_data = test_data.drop(['datetime', 'count', 'casual', 'registered'], axis = 1)",
      "execution_count": null,
      "outputs": []
    },
    {
      "metadata": {
        "_cell_guid": "2ebf9b33-2af2-6008-b1a7-87ca7d68e426",
        "_uuid": "90855608a73ea4cb8718c5e1bbd0b93061593e1e",
        "trusted": false
      },
      "cell_type": "code",
      "source": "binary_data_columns = ['holiday', 'workingday']\nbinary_data_indices = np.array([(column in binary_data_columns) for column in train_data.columns], dtype = bool)\n\ncategorical_data_columns = ['season', 'weather', 'month'] \ncategorical_data_indices = np.array([(column in categorical_data_columns) for column in train_data.columns], dtype = bool)\n\nnumeric_data_columns = ['temp', 'atemp', 'humidity', 'windspeed', 'hour']\nnumeric_data_indices = np.array([(column in numeric_data_columns) for column in train_data.columns], dtype = bool)",
      "execution_count": null,
      "outputs": []
    },
    {
      "metadata": {
        "_cell_guid": "ec903fad-b8a8-238b-95be-ebbffaaa2262",
        "_uuid": "4886fed99bd29c9bdc3348cddbbcea452208c1d2",
        "trusted": false
      },
      "cell_type": "code",
      "source": "transformer_list = [        \n            #binary\n            ('binary_variables_processing', preprocessing.FunctionTransformer(lambda data: data[:, binary_data_indices])), \n                    \n            #numeric\n            ('numeric_variables_processing', pipeline.Pipeline(steps = [\n                ('selecting', preprocessing.FunctionTransformer(lambda data: data[:, numeric_data_indices])),\n                ('scaling', preprocessing.StandardScaler(with_mean = 0))            \n                        ])),\n        \n            #categorical\n            ('categorical_variables_processing', pipeline.Pipeline(steps = [\n                ('selecting', preprocessing.FunctionTransformer(lambda data: data[:, categorical_data_indices])),\n                ('hot_encoding', preprocessing.OneHotEncoder(handle_unknown = 'ignore'))            \n                        ])),\n        ]",
      "execution_count": null,
      "outputs": []
    },
    {
      "metadata": {
        "_cell_guid": "96b335ff-5ee6-ef8e-4d37-c7508c289c0f",
        "_uuid": "747894dc7c07062b5e427d03e646ce0726409ca2"
      },
      "cell_type": "markdown",
      "source": "**SGDRegressor**"
    },
    {
      "metadata": {
        "_cell_guid": "e58f0250-6fdd-7110-8cfa-8e920a7bea3c",
        "_uuid": "9d37f8baa00767d6752497c36dbcd40754852a96",
        "trusted": false
      },
      "cell_type": "code",
      "source": "regressor = linear_model.Lasso(max_iter = 2000)",
      "execution_count": null,
      "outputs": []
    },
    {
      "metadata": {
        "_cell_guid": "d97cb587-4bf9-3c28-bd35-9925f3bab127",
        "_uuid": "82f0e1be5228c24509a3f9a8080d2abb5ece9b9e",
        "trusted": false
      },
      "cell_type": "code",
      "source": "estimator = pipeline.Pipeline(steps = [       \n    ('feature_processing', pipeline.FeatureUnion(transformer_list=transformer_list)),\n    ('model_fitting', regressor)\n    ]\n)\n\nestimator.fit(train_data, train_labels)\npredicted = estimator.predict(test_data)\n\nprint(\"RMSLE: \", rmsle(test_labels, predicted))\nprint(\"MAE: \",  metrics.mean_absolute_error(test_labels, predicted))",
      "execution_count": null,
      "outputs": []
    },
    {
      "metadata": {
        "_cell_guid": "5aa7fd38-cea1-9ab6-8d19-5ac1a40a0597",
        "_uuid": "0b9059856a20c1ffdca6548e8d9f8d945bf6922c"
      },
      "cell_type": "markdown",
      "source": "**Lets try out to filter best model parameters**"
    },
    {
      "metadata": {
        "_cell_guid": "c665358d-6137-a5e2-52b4-2e40336ffeb9",
        "_uuid": "ffc2c11e784fb3902064e01fa9a49a2a0f8bf57f",
        "trusted": false
      },
      "cell_type": "code",
      "source": "parameters_grid = {\n    'model_fitting__alpha' : [0.1, 1, 2, 3, 4, 10, 30]\n}",
      "execution_count": null,
      "outputs": []
    },
    {
      "metadata": {
        "_cell_guid": "835a9989-6338-ad81-4fca-a282f288ed57",
        "_uuid": "7536873f18dda75886a7e0e3e3657ab404e16821",
        "trusted": false
      },
      "cell_type": "code",
      "source": "rmsle_scorer = metrics.make_scorer(rmsle, greater_is_better=False)\ngrid_cv = grid_search.GridSearchCV(estimator, parameters_grid, scoring = rmsle_scorer, cv = 4)\ngrid_cv.fit(train_data, train_labels)\n\npredicted = grid_cv.best_estimator_.predict(test_data)\n\nprint(\"RMSLE: \", rmsle(test_labels, predicted))\nprint(\"Best params: \", grid_cv.best_params_)",
      "execution_count": null,
      "outputs": []
    },
    {
      "metadata": {
        "_cell_guid": "76cc7448-fa87-d460-8d4e-837835ad7cad",
        "_uuid": "69448a842e42d87fa4930cdc67624ce46a183190",
        "trusted": false
      },
      "cell_type": "code",
      "source": "estimator.get_params().keys()",
      "execution_count": null,
      "outputs": []
    },
    {
      "metadata": {
        "_cell_guid": "627b5cde-dde1-fdca-7e4a-c38fd84dd48e",
        "_uuid": "a1fa25f3202a51f228e260276bd06db6a7054e30",
        "trusted": false
      },
      "cell_type": "code",
      "source": "from sklearn.ensemble import RandomForestRegressor\n\nregressor = RandomForestRegressor(random_state = 0, max_depth = 20, n_estimators = 150)\nestimator = pipeline.Pipeline(steps = [       \n    ('feature_processing', pipeline.FeatureUnion(transformer_list = transformer_list)),\n    ('model_fitting', regressor)\n    ]\n)\nestimator.fit(train_data, train_labels)\n#metrics.mean_absolute_error(test_labels, estimator.predict(test_data))\nprint(\"RMSLE: \", rmsle(test_labels, estimator.predict(test_data)))",
      "execution_count": null,
      "outputs": []
    },
    {
      "metadata": {
        "_cell_guid": "9b60a0f1-5ab5-425f-3c7d-23f8c199a985",
        "_uuid": "543f3fef9d96fc7bdb769e4e95d192158fe0badd",
        "trusted": false
      },
      "cell_type": "code",
      "source": "#estimator.get_params().keys()",
      "execution_count": null,
      "outputs": []
    },
    {
      "metadata": {
        "_cell_guid": "842e4a83-f073-d00e-595b-759edb9ad95d",
        "_uuid": "f029b33962625a976f6b65bec162fa3b5a61a7c1",
        "trusted": false
      },
      "cell_type": "code",
      "source": "%pylab inline\npylab.figure(figsize=(8, 3))\n\npylab.subplot(1,2,1)\npylab.grid(True)\npylab.xlim(-100,1100)\npylab.ylim(-100,1100)\npylab.scatter(train_labels, grid_cv.best_estimator_.predict(train_data), alpha=0.5, color = 'red')\npylab.scatter(test_labels, grid_cv.best_estimator_.predict(test_data), alpha=0.5, color = 'blue')\npylab.title('linear model')\n\npylab.subplot(1,2,2)\npylab.grid(True)\npylab.xlim(-100,1100)\npylab.ylim(-100,1100)\npylab.scatter(train_labels, estimator.predict(train_data), alpha=0.5, color = 'red')\npylab.scatter(test_labels, estimator.predict(test_data), alpha=0.5, color = 'blue')\npylab.title('random forest model')",
      "execution_count": null,
      "outputs": []
    },
    {
      "metadata": {
        "_cell_guid": "e8555881-95c0-2fb5-ddd2-c6da9e2d27a6",
        "_uuid": "112b13b61fbe501d8afb53d92c163c0a61b4f254",
        "trusted": false
      },
      "cell_type": "code",
      "source": "from sklearn.ensemble import GradientBoostingRegressor\n\ngbr = GradientBoostingRegressor(n_estimators=200, learning_rate=0.9, max_depth = 4)\n\nestimator = pipeline.Pipeline(steps = [       \n    ('feature_processing', pipeline.FeatureUnion(transformer_list = transformer_list)),\n    ('model_fitting', gbr)\n    ]\n)\nestimator.fit(train_data, train_labels)\n#metrics.mean_absolute_error(test_labels, estimator.predict(test_data))\nprint(\"RMSLE: \", rmsle(test_labels, estimator.predict(test_data)))",
      "execution_count": null,
      "outputs": []
    },
    {
      "metadata": {
        "_cell_guid": "803e8f3a-2465-1c44-a3f3-c7b0d7f9a167",
        "_uuid": "8e8c6657de1a71c4cf22a89f8abd154718ee001c",
        "trusted": false
      },
      "cell_type": "code",
      "source": "%pylab inline\npylab.figure(figsize=(8, 3))\n\npylab.subplot(1,2,1)\npylab.grid(True)\npylab.xlim(-100,1100)\npylab.ylim(-100,1100)\npylab.scatter(train_labels, grid_cv.best_estimator_.predict(train_data), alpha=0.5, color = 'red')\npylab.scatter(test_labels, grid_cv.best_estimator_.predict(test_data), alpha=0.5, color = 'blue')\npylab.title('linear model')\n\npylab.subplot(1,2,2)\npylab.grid(True)\npylab.xlim(-100,1100)\npylab.ylim(-100,1100)\npylab.scatter(train_labels, estimator.predict(train_data), alpha=0.5, color = 'red')\npylab.scatter(test_labels, estimator.predict(test_data), alpha=0.5, color = 'blue')\npylab.title('gbr model')",
      "execution_count": null,
      "outputs": []
    },
    {
      "metadata": {
        "_cell_guid": "106c25ee-5eb4-6f50-9507-1103c82bc242",
        "_uuid": "4e2e5dab3a526d3bc7c2809a45ec7f48b498993b",
        "trusted": false
      },
      "cell_type": "code",
      "source": "real_test_data = pd.read_csv(\"../input/test.csv\")\nreal_test_data_ids = real_test_data[\"datetime\"]\nreal_test_data.head()",
      "execution_count": null,
      "outputs": []
    },
    {
      "metadata": {
        "_cell_guid": "37a4cd9d-8145-24b1-ddd1-507f02e88c6f",
        "_uuid": "ca678f8f8dd90ca0b4e62ab5874fb2afb1af0bb4",
        "trusted": false
      },
      "cell_type": "code",
      "source": "real_test_data.datetime = real_test_data.datetime.apply(pd.to_datetime)\nreal_test_data['month'] = real_test_data.datetime.apply(lambda x : x.month)\nreal_test_data['hour'] = real_test_data.datetime.apply(lambda x : x.hour)\nreal_test_data.head()",
      "execution_count": null,
      "outputs": []
    },
    {
      "metadata": {
        "_cell_guid": "8bc4eccd-65d2-17f5-6eab-5071a097820c",
        "_uuid": "735ef512c15ffee51ba669de3d1516dfbaefc230",
        "trusted": false
      },
      "cell_type": "code",
      "source": "real_test_data = real_test_data.drop(['datetime'], axis = 1)",
      "execution_count": null,
      "outputs": []
    },
    {
      "metadata": {
        "_cell_guid": "1e68313e-83bf-b5cb-99fc-e35610b62694",
        "_uuid": "6f795ce77fc0d5d248e71b54e5f00e7595a69ff5",
        "trusted": false
      },
      "cell_type": "code",
      "source": "real_test_predictions = estimator.predict(real_test_data)",
      "execution_count": null,
      "outputs": []
    },
    {
      "metadata": {
        "_cell_guid": "36a92b98-84fa-6ce1-ff9a-861c32c213c6",
        "_uuid": "be7fa71c9e1f7adeb5e249605473d155e8f6e36b",
        "trusted": false
      },
      "cell_type": "code",
      "source": "real_test_predictions.min()",
      "execution_count": null,
      "outputs": []
    },
    {
      "metadata": {
        "_cell_guid": "75e2c757-6b04-90dc-9e8a-d69428c8558b",
        "_uuid": "a266f5dbe16a4b9a995b20d0efea2f2974c89b46",
        "trusted": false
      },
      "cell_type": "code",
      "source": "submission = pd.DataFrame({\n        \"datetime\": real_test_data_ids,\n        \"count\": [max(0, x) for x in real_test_predictions]\n    })\nsubmission.head()",
      "execution_count": null,
      "outputs": []
    },
    {
      "metadata": {
        "_cell_guid": "318f0433-1847-c2e3-2c5e-bb5a7f499f60",
        "_uuid": "83f7cd69a15d8cebfe57074ec30905851a7ab9ba",
        "trusted": false
      },
      "cell_type": "code",
      "source": "submission.to_csv('bike_predictions.csv', index=False)",
      "execution_count": null,
      "outputs": []
    },
    {
      "metadata": {
        "_cell_guid": "4f16dc22-22d4-7e46-80df-13ab76ab5894",
        "_uuid": "8b588a974e91b1d2351ff64eef4204a454d1c67e",
        "trusted": false
      },
      "cell_type": "code",
      "source": "",
      "execution_count": null,
      "outputs": []
    }
  ],
  "metadata": {
    "_change_revision": 0,
    "_is_fork": false,
    "kernelspec": {
      "display_name": "Python 3",
      "language": "python",
      "name": "python3"
    },
    "language_info": {
      "name": "python",
      "version": "3.6.6",
      "mimetype": "text/x-python",
      "codemirror_mode": {
        "name": "ipython",
        "version": 3
      },
      "pygments_lexer": "ipython3",
      "nbconvert_exporter": "python",
      "file_extension": ".py"
    }
  },
  "nbformat": 4,
  "nbformat_minor": 1
}